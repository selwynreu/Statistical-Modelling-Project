{
 "cells": [
  {
   "cell_type": "markdown",
   "metadata": {},
   "source": [
    "# CityBikes"
   ]
  },
  {
   "cell_type": "markdown",
   "metadata": {},
   "source": [
    "Send a request to CityBikes for the city of your choice. "
   ]
  },
  {
   "cell_type": "code",
   "execution_count": 1,
   "metadata": {},
   "outputs": [],
   "source": [
    "import requests\n",
    "import pandas as pd\n",
    "\n",
    "# URL of the API endpoint\n",
    "url = 'https://api.citybik.es/v2/networks/bixi-montreal'\n",
    "\n",
    "# GET request to the API\n",
    "response = requests.get(url)"
   ]
  },
  {
   "cell_type": "markdown",
   "metadata": {},
   "source": [
    "Parse through the response to get the details you want for the bike stations in that city (latitude, longitude, number of bikes). "
   ]
  },
  {
   "cell_type": "code",
   "execution_count": 2,
   "metadata": {},
   "outputs": [],
   "source": [
    "# Check if the request was successful (status code 200)\n",
    "\n",
    "if response.status_code != 200:\n",
    "    print(\"Request failed. Status code:\", response.status_code)\n",
    "else:\n",
    "    data = response.json()\n",
    "    \n",
    "    # Extract station details\n",
    "    stations = data['network']['stations']\n",
    "\n",
    "    # Create lists to store extracted details\n",
    "    name = []\n",
    "    latitudes = []\n",
    "    longitudes = []\n",
    "    num_bikes_list = []\n",
    "\n",
    "    # Iterate through each station and extract details\n",
    "    for station in stations:\n",
    "        name.append(station['name'])\n",
    "        latitudes.append(station['latitude'])\n",
    "        longitudes.append(station['longitude'])\n",
    "        num_bikes_list.append(station['free_bikes'])"
   ]
  },
  {
   "cell_type": "markdown",
   "metadata": {},
   "source": [
    "Put your parsed results into a DataFrame."
   ]
  },
  {
   "cell_type": "code",
   "execution_count": 3,
   "metadata": {
    "tags": []
   },
   "outputs": [
    {
     "data": {
      "text/html": [
       "<div>\n",
       "<style scoped>\n",
       "    .dataframe tbody tr th:only-of-type {\n",
       "        vertical-align: middle;\n",
       "    }\n",
       "\n",
       "    .dataframe tbody tr th {\n",
       "        vertical-align: top;\n",
       "    }\n",
       "\n",
       "    .dataframe thead th {\n",
       "        text-align: right;\n",
       "    }\n",
       "</style>\n",
       "<table border=\"1\" class=\"dataframe\">\n",
       "  <thead>\n",
       "    <tr style=\"text-align: right;\">\n",
       "      <th></th>\n",
       "      <th>Station Name</th>\n",
       "      <th>Latitude</th>\n",
       "      <th>Longitude</th>\n",
       "      <th>Number of Bikes</th>\n",
       "    </tr>\n",
       "  </thead>\n",
       "  <tbody>\n",
       "    <tr>\n",
       "      <th>0</th>\n",
       "      <td>Gare d'autocars de Montréal (Berri / Ontario)</td>\n",
       "      <td>45.516926</td>\n",
       "      <td>-73.564257</td>\n",
       "      <td>5</td>\n",
       "    </tr>\n",
       "    <tr>\n",
       "      <th>1</th>\n",
       "      <td>Marché Maisonneuve</td>\n",
       "      <td>45.553219</td>\n",
       "      <td>-73.539782</td>\n",
       "      <td>7</td>\n",
       "    </tr>\n",
       "    <tr>\n",
       "      <th>2</th>\n",
       "      <td>Rachel / de Brébeuf</td>\n",
       "      <td>45.526890</td>\n",
       "      <td>-73.572640</td>\n",
       "      <td>24</td>\n",
       "    </tr>\n",
       "    <tr>\n",
       "      <th>3</th>\n",
       "      <td>Bibliothèque d'Ahuntsic (Lajeunesse / Fleury)</td>\n",
       "      <td>45.553400</td>\n",
       "      <td>-73.662255</td>\n",
       "      <td>8</td>\n",
       "    </tr>\n",
       "    <tr>\n",
       "      <th>4</th>\n",
       "      <td>Cité des Arts du Cirque (Paul Boutet / des Reg...</td>\n",
       "      <td>45.559842</td>\n",
       "      <td>-73.615447</td>\n",
       "      <td>22</td>\n",
       "    </tr>\n",
       "    <tr>\n",
       "      <th>...</th>\n",
       "      <td>...</td>\n",
       "      <td>...</td>\n",
       "      <td>...</td>\n",
       "      <td>...</td>\n",
       "    </tr>\n",
       "    <tr>\n",
       "      <th>155</th>\n",
       "      <td>Métro Atwater (Atwater / Ste-Catherine)</td>\n",
       "      <td>45.489525</td>\n",
       "      <td>-73.584458</td>\n",
       "      <td>19</td>\n",
       "    </tr>\n",
       "    <tr>\n",
       "      <th>156</th>\n",
       "      <td>Complexe Desjardins (St-Urbain / René-Lévesque)</td>\n",
       "      <td>45.507885</td>\n",
       "      <td>-73.563151</td>\n",
       "      <td>8</td>\n",
       "    </tr>\n",
       "    <tr>\n",
       "      <th>157</th>\n",
       "      <td>de Maisonneuve / Mackay</td>\n",
       "      <td>45.496496</td>\n",
       "      <td>-73.578704</td>\n",
       "      <td>6</td>\n",
       "    </tr>\n",
       "    <tr>\n",
       "      <th>158</th>\n",
       "      <td>du Mont-Royal / de Brébeuf</td>\n",
       "      <td>45.529337</td>\n",
       "      <td>-73.577953</td>\n",
       "      <td>11</td>\n",
       "    </tr>\n",
       "    <tr>\n",
       "      <th>159</th>\n",
       "      <td>Ste-Catherine / Union</td>\n",
       "      <td>45.503738</td>\n",
       "      <td>-73.569485</td>\n",
       "      <td>14</td>\n",
       "    </tr>\n",
       "  </tbody>\n",
       "</table>\n",
       "<p>160 rows × 4 columns</p>\n",
       "</div>"
      ],
      "text/plain": [
       "                                          Station Name   Latitude  Longitude  \\\n",
       "0        Gare d'autocars de Montréal (Berri / Ontario)  45.516926 -73.564257   \n",
       "1                                   Marché Maisonneuve  45.553219 -73.539782   \n",
       "2                                  Rachel / de Brébeuf  45.526890 -73.572640   \n",
       "3        Bibliothèque d'Ahuntsic (Lajeunesse / Fleury)  45.553400 -73.662255   \n",
       "4    Cité des Arts du Cirque (Paul Boutet / des Reg...  45.559842 -73.615447   \n",
       "..                                                 ...        ...        ...   \n",
       "155            Métro Atwater (Atwater / Ste-Catherine)  45.489525 -73.584458   \n",
       "156    Complexe Desjardins (St-Urbain / René-Lévesque)  45.507885 -73.563151   \n",
       "157                            de Maisonneuve / Mackay  45.496496 -73.578704   \n",
       "158                         du Mont-Royal / de Brébeuf  45.529337 -73.577953   \n",
       "159                              Ste-Catherine / Union  45.503738 -73.569485   \n",
       "\n",
       "     Number of Bikes  \n",
       "0                  5  \n",
       "1                  7  \n",
       "2                 24  \n",
       "3                  8  \n",
       "4                 22  \n",
       "..               ...  \n",
       "155               19  \n",
       "156                8  \n",
       "157                6  \n",
       "158               11  \n",
       "159               14  \n",
       "\n",
       "[160 rows x 4 columns]"
      ]
     },
     "execution_count": 3,
     "metadata": {},
     "output_type": "execute_result"
    }
   ],
   "source": [
    "# Create a DataFrame with the extracted details\n",
    "df = pd.DataFrame({\n",
    "    'Station Name': name,\n",
    "    'Latitude': latitudes,\n",
    "    'Longitude': longitudes,\n",
    "    'Number of Bikes': num_bikes_list\n",
    "})\n",
    "\n",
    "df"
   ]
  }
 ],
 "metadata": {
  "kernelspec": {
   "display_name": "Python 3 (ipykernel)",
   "language": "python",
   "name": "python3"
  },
  "language_info": {
   "codemirror_mode": {
    "name": "ipython",
    "version": 3
   },
   "file_extension": ".py",
   "mimetype": "text/x-python",
   "name": "python",
   "nbconvert_exporter": "python",
   "pygments_lexer": "ipython3",
   "version": "3.11.5"
  }
 },
 "nbformat": 4,
 "nbformat_minor": 4
}
