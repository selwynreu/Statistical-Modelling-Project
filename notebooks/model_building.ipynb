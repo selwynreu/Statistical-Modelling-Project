{
 "cells": [
  {
   "cell_type": "markdown",
   "metadata": {},
   "source": [
    "Build a regression model."
   ]
  },
  {
   "cell_type": "code",
   "execution_count": 1,
   "metadata": {},
   "outputs": [],
   "source": [
    "import pandas as pd\n",
    "import seaborn as sns\n",
    "import matplotlib.pyplot as plt\n",
    "import statsmodels.api as sm\n",
    "\n",
    "df_features = pd.read_csv(\"../data/features.csv\")\n",
    "df_features\n",
    "\n",
    "correlation_matrix = df_features.corr(numeric_only=True)\n",
    "correlation_matrix\n",
    "\n",
    "y = df_features['Number of Bikes']\n",
    "X = df_features[['Average_popularity_F','Average_rating_Y','Average_review_count_Y']]\n",
    "X = sm.add_constant(X) \n",
    "X.head()\n",
    "\n",
    "model = sm.OLS(y, X)\n",
    "results = model.fit()"
   ]
  },
  {
   "cell_type": "markdown",
   "metadata": {},
   "source": [
    "Provide model output and an interpretation of the results. "
   ]
  },
  {
   "cell_type": "code",
   "execution_count": 2,
   "metadata": {},
   "outputs": [
    {
     "name": "stdout",
     "output_type": "stream",
     "text": [
      "                            OLS Regression Results                            \n",
      "==============================================================================\n",
      "Dep. Variable:        Number of Bikes   R-squared:                       0.026\n",
      "Model:                            OLS   Adj. R-squared:                  0.007\n",
      "Method:                 Least Squares   F-statistic:                     1.397\n",
      "Date:                Sat, 09 Dec 2023   Prob (F-statistic):              0.246\n",
      "Time:                        20:57:11   Log-Likelihood:                -523.79\n",
      "No. Observations:                 160   AIC:                             1056.\n",
      "Df Residuals:                     156   BIC:                             1068.\n",
      "Df Model:                           3                                         \n",
      "Covariance Type:            nonrobust                                         \n",
      "==========================================================================================\n",
      "                             coef    std err          t      P>|t|      [0.025      0.975]\n",
      "------------------------------------------------------------------------------------------\n",
      "const                      4.8770      7.495      0.651      0.516      -9.927      19.681\n",
      "Average_popularity_F      18.3239     10.265      1.785      0.076      -1.952      38.600\n",
      "Average_rating_Y          -3.1057      2.035     -1.526      0.129      -7.126       0.914\n",
      "Average_review_count_Y     0.0279      0.030      0.933      0.352      -0.031       0.087\n",
      "==============================================================================\n",
      "Omnibus:                       16.095   Durbin-Watson:                   1.962\n",
      "Prob(Omnibus):                  0.000   Jarque-Bera (JB):               17.763\n",
      "Skew:                           0.782   Prob(JB):                     0.000139\n",
      "Kurtosis:                       3.470   Cond. No.                         841.\n",
      "==============================================================================\n",
      "\n",
      "Notes:\n",
      "[1] Standard Errors assume that the covariance matrix of the errors is correctly specified.\n"
     ]
    },
    {
     "data": {
      "image/png": "[encoded data removed]",
      "text/plain": [
       "<Figure size 640x480 with 1 Axes>"
      ]
     },
     "metadata": {},
     "output_type": "display_data"
    },
    {
     "data": {
      "text/plain": [
       "8.97245592212692"
      ]
     },
     "execution_count": 2,
     "metadata": {},
     "output_type": "execute_result"
    }
   ],
   "source": [
    "print(results.summary())\n",
    "\n",
    "# Interpretation Summary\n",
    "\n",
    "# Overall, the model suggests that the characteristics of the POIs do not have a statistically significant impact on the estimated Number of bikes for a given station. \n",
    "\n",
    "# The Adj. R-squared indicating the goodness of fit of the model shows that around 0.7% of the variability in Number of bikes can be explained by the independent variables.\n",
    "\n",
    "residuals = results.resid\n",
    "\n",
    "sns.histplot(residuals)\n",
    "plt.show()\n",
    "\n",
    "# To extract the co-efficients\n",
    "results.params\n",
    "\n",
    "# The model equation for prediction is: number_of_bikes = b0 + b1*known_popularity + b3*known_rating_Y + b4*known_review_count_Y\n",
    "\n",
    "b0 = results.params['const']\n",
    "b1 = results.params['Average_popularity_F']\n",
    "b3 = results.params['Average_rating_Y']\n",
    "b4 = results.params['Average_review_count_Y']\n",
    "\n",
    "known_popularity = 0.9384631084658914\n",
    "known_rating_Y = 4.67\n",
    "known_review_count_Y = 50.32\n",
    "predicted_num_bikes = b0 + b1*known_popularity + b3*known_rating_Y + b4*known_review_count_Y\n",
    "predicted_num_bikes\n",
    "\n",
    "# Removed the variable with the highest p-value (Average_dist_F with a p-value of 0.597) to get a better Adj. R-squared, even though I should be removing all the variables that have a p-value over 0.05.\n",
    "# Next, I removed the 2nd variable with highest p-value (Average_distance_Y with a p-value of 0.526) to get a better Adj. R-Squared (0.4%).\n",
    "# I would keep going until all the variables are statistically significant owever if I do that, then I would need to remove all variables so I just removed two variables.\n",
    "\n",
    "# The final model has an Adj. R-Squared value of 0.7%. \n",
    "# The linear regression model is explained through the following equation:\n",
    "\n",
    "# (Number of Bikes) = 4.88 + 18.32*(Average_popularity_F) - 3.11*(Average_rating_Y) + 0.03*(Average_review_count_Y)"
   ]
  },
  {
   "cell_type": "markdown",
   "metadata": {},
   "source": [
    "# Stretch"
   ]
  },
  {
   "cell_type": "markdown",
   "metadata": {},
   "source": [
    "How can you turn the regression model into a classification model?"
   ]
  },
  {
   "cell_type": "code",
   "execution_count": null,
   "metadata": {},
   "outputs": [],
   "source": []
  }
 ],
 "metadata": {
  "kernelspec": {
   "display_name": "Python 3 (ipykernel)",
   "language": "python",
   "name": "python3"
  },
  "language_info": {
   "codemirror_mode": {
    "name": "ipython",
    "version": 3
   },
   "file_extension": ".py",
   "mimetype": "text/x-python",
   "name": "python",
   "nbconvert_exporter": "python",
   "pygments_lexer": "ipython3",
   "version": "3.11.5"
  }
 },
 "nbformat": 4,
 "nbformat_minor": 4
}
